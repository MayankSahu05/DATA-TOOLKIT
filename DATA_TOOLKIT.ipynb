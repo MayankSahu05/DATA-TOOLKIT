{
  "nbformat": 4,
  "nbformat_minor": 0,
  "metadata": {
    "colab": {
      "provenance": []
    },
    "kernelspec": {
      "name": "python3",
      "display_name": "Python 3"
    },
    "language_info": {
      "name": "python"
    }
  },
  "cells": [
    {
      "cell_type": "markdown",
      "source": [
        "#  DATA TOOLKIT\n",
        "\n",
        "1. What is NumPy, and why is it widely used in Python\n",
        "-  NumPy (Numerical Python) is a Python library used for efficient numerical computations, providing support for large multidimensional arrays, matrices, and mathematical functions. It’s widely used because it is fast, memory-efficient, and supports vectorized operations, making it ideal for data analysis, machine learning, and scientific computing.\n",
        "\n",
        "2. How does broadcasting work in NumPy\n",
        "-  Broadcasting in NumPy allows arrays of different shapes to be combined in arithmetic operations. Smaller arrays are automatically “stretched” to match the shape of larger arrays without making copies, following specific broadcasting rules, which helps perform element-wise operations efficiently.\n",
        "\n",
        "3. What is a Pandas DataFrame\n",
        "-  A Pandas DataFrame is a two-dimensional, size-mutable, and heterogeneous tabular data structure with labeled rows and columns. It is one of Pandas’ core data structures for storing and manipulating structured data.\n",
        "\n",
        "4. Explain the use of the groupby() method in Pandas\n",
        "-  The groupby() method in Pandas is used to split data into groups based on column values, apply functions (like sum, mean, or custom functions) to each group, and combine the results into a new DataFrame or Series.\n",
        "\n",
        "5. Why is Seaborn preferred for statistical visualizations\n",
        "-  Seaborn is preferred because it is built on top of Matplotlib and provides a high-level interface for creating attractive, informative statistical graphics with minimal code. It includes built-in themes, color palettes, and functions for complex plots like heatmaps, violin plots, and pair plots.\n",
        "\n",
        "6. What are the differences between NumPy arrays and Python lists\n",
        "-  NumPy arrays are homogeneous (same data type), support vectorized operations, and are more memory-efficient, while Python lists can store mixed data types, are more flexible, but slower for numerical computations.\n",
        "\n",
        "7. What is a heatmap, and when should it be used\n",
        "-  A heatmap is a data visualization that uses color shading to represent values in a matrix. It’s used to show data density, correlations, or magnitude patterns in datasets, such as a correlation matrix.\n",
        "\n",
        "8. What does the term “vectorized operation” mean in NumPy\n",
        "-  A vectorized operation is one that applies an operation to entire arrays at once, without using explicit loops. This improves speed and code readability.\n",
        "\n",
        "9. How does Matplotlib differ from Plotly\n",
        "-  Matplotlib is a static, low-level visualization library ideal for publication-quality plots, while Plotly is an interactive plotting library that allows zooming, hovering, and real-time updates, making it better for dashboards and web-based visualizations.\n",
        "\n",
        "10. What is the significance of hierarchical indexing in Pandas\n",
        "-  Hierarchical indexing (MultiIndex) allows multiple levels of row or column labels, enabling more complex data organization, easier subsetting, and working with higher-dimensional data in a 2D DataFrame.\n",
        "\n",
        "11. What is the role of Seaborn’s pairplot() function\n",
        "-  The pairplot() function creates a matrix of scatter plots for numerical features and histograms or KDE plots on the diagonal, helping visualize relationships between multiple variables at once.\n",
        "\n",
        "12. What is the purpose of the describe() function in Pandas\n",
        "-  The describe() function generates summary statistics of numerical columns, including count, mean, standard deviation, min, quartiles, and max.\n",
        "\n",
        "13. Why is handling missing data important in Pandas\n",
        "-  Handling missing data ensures accuracy in analysis, prevents errors in calculations, and improves the reliability of insights. Missing data can be handled by filling, imputing, or removing affected rows/columns.\n",
        "\n",
        "14. What are the benefits of using Plotly for data visualization\n",
        "-  Plotly provides interactive, dynamic visualizations, supports multiple chart types, integrates with web frameworks, and allows exporting plots to HTML for sharing.\n",
        "\n",
        "15. How does NumPy handle multidimensional arrays\n",
        "-  NumPy handles multidimensional arrays (ndarrays) by storing them in contiguous memory blocks and providing attributes like .shape and .ndim for dimensions, allowing efficient indexing, slicing, and broadcasting.\n",
        "\n",
        "16. What is the role of Bokeh in data visualization\n",
        "-  Bokeh is a Python library for creating interactive, browser-based visualizations that can handle streaming data and large datasets efficiently.\n",
        "\n",
        "17. Explain the difference between apply() and map() in Pandas\n",
        "-  map() is used for element-wise transformations on Series, while apply() can apply a function to an entire DataFrame or Series, operating row-wise or column-wise.\n",
        "\n",
        "18. What are some advanced features of NumPy\n",
        "-  Advanced features include broadcasting, vectorization, masked arrays, structured arrays, random number generation, FFT (Fast Fourier Transform), and linear algebra functions.\n",
        "\n",
        "19. How does Pandas simplify time series analysis\n",
        "-  Pandas provides specialized date/time data types, resampling, shifting, rolling windows, and built-in functions for indexing and manipulating time series data.\n",
        "\n",
        "20. What is the role of a pivot table in Pandas\n",
        "-  A pivot table reshapes data, summarizing it based on categorical values, aggregating data, and providing an easy way to compare different categories.\n",
        "\n",
        "21. Why is NumPy’s array slicing faster than Python’s list slicing\n",
        "NumPy’s array slicing is faster because arrays are stored in contiguous memory and operations are implemented in optimized C code, while Python lists are arrays of pointers to objects.\n",
        "\n",
        "22. What are some common use cases for Seaborn\n",
        "Common use cases include visualizing distributions (histograms, KDE plots), relationships (scatter, line plots), comparisons (bar, box plots), and correlations (heatmaps, pair plots).\n",
        "\n"
      ],
      "metadata": {
        "id": "uy5YtgKKO7TH"
      }
    },
    {
      "cell_type": "markdown",
      "source": [
        "# Practical answer\n",
        "\n",
        "1. How do you create a 2D NumPy array and calculate the sum of each row"
      ],
      "metadata": {
        "id": "6EkqTeDbQUkO"
      }
    },
    {
      "cell_type": "code",
      "source": [
        "import numpy as np\n",
        "arr = np.array([[1, 2, 3], [4, 5, 6]])\n",
        "row_sum = np.sum(arr, axis=1)\n",
        "print(row_sum)\n"
      ],
      "metadata": {
        "id": "jbm6bSExQfHe"
      },
      "execution_count": null,
      "outputs": []
    },
    {
      "cell_type": "markdown",
      "source": [
        "2.  Write a Pandas script to find the mean of a specific column in a DataFrame."
      ],
      "metadata": {
        "id": "JW7ccq1PQoiY"
      }
    },
    {
      "cell_type": "code",
      "source": [
        "import pandas as pd\n",
        "data = {'Name': ['A', 'B', 'C'], 'Score': [85, 90, 78]}\n",
        "df = pd.DataFrame(data)\n",
        "mean_score = df['Score'].mean()\n",
        "print(mean_score)\n"
      ],
      "metadata": {
        "id": "DqpW7SCjQz3I"
      },
      "execution_count": null,
      "outputs": []
    },
    {
      "cell_type": "markdown",
      "source": [
        "3. 25. Create a scatter plot using Matplotlib"
      ],
      "metadata": {
        "id": "qdDJ228_Q62B"
      }
    },
    {
      "cell_type": "code",
      "source": [
        "import matplotlib.pyplot as plt\n",
        "x = [5, 7, 8, 7]\n",
        "y = [99, 86, 87, 88]\n",
        "plt.scatter(x, y)\n",
        "plt.xlabel('X-axis')\n",
        "plt.ylabel('Y-axis')\n",
        "plt.title('Scatter Plot')\n",
        "plt.show()\n"
      ],
      "metadata": {
        "id": "VakoXVsyRW5t"
      },
      "execution_count": null,
      "outputs": []
    },
    {
      "cell_type": "markdown",
      "source": [
        "4. How do you calculate the correlation matrix using Seaborn and visualize it with a heatmap"
      ],
      "metadata": {
        "id": "eXqZQo0LRa8G"
      }
    },
    {
      "cell_type": "code",
      "source": [
        "import seaborn as sns\n",
        "import pandas as pd\n",
        "data = pd.DataFrame({\n",
        "    'A': [1, 2, 3, 4],\n",
        "    'B': [4, 5, 6, 7],\n",
        "    'C': [7, 8, 9, 10]\n",
        "})\n",
        "corr = data.corr()\n",
        "sns.heatmap(corr, annot=True, cmap='coolwarm')\n",
        "plt.show()\n"
      ],
      "metadata": {
        "id": "Uu0kcXNwRhSa"
      },
      "execution_count": null,
      "outputs": []
    },
    {
      "cell_type": "markdown",
      "source": [
        "5. Generate a bar plot using Plotly"
      ],
      "metadata": {
        "id": "YPAXeYeoRkRe"
      }
    },
    {
      "cell_type": "code",
      "source": [
        "import plotly.express as px\n",
        "data = {'Fruit': ['Apple', 'Banana', 'Cherry'], 'Quantity': [10, 20, 15]}\n",
        "fig = px.bar(data, x='Fruit', y='Quantity', title='Fruit Quantity')\n",
        "fig.show()\n"
      ],
      "metadata": {
        "id": "knMXEBjDRtfy"
      },
      "execution_count": null,
      "outputs": []
    },
    {
      "cell_type": "markdown",
      "source": [
        "# 6. Create a DataFrame and add a new column based on an existing column"
      ],
      "metadata": {
        "id": "FD9UtmwCRzy2"
      }
    },
    {
      "cell_type": "code",
      "source": [
        "import pandas as pd\n",
        "df = pd.DataFrame({'Name': ['A', 'B', 'C'], 'Score': [85, 90, 78]})\n",
        "df['Grade'] = ['Pass' if x >= 80 else 'Fail' for x in df['Score']]\n",
        "print(df)\n"
      ],
      "metadata": {
        "id": "xsZVqmgtSD-f"
      },
      "execution_count": null,
      "outputs": []
    },
    {
      "cell_type": "markdown",
      "source": [
        "7. Write a program to perform element-wise multiplication of two NumPy arrays"
      ],
      "metadata": {
        "id": "gbytB05-Ssun"
      }
    },
    {
      "cell_type": "code",
      "source": [
        "import numpy as np\n",
        "a = np.array([1, 2, 3])\n",
        "b = np.array([4, 5, 6])\n",
        "result = a * b\n",
        "print(result)\n"
      ],
      "metadata": {
        "id": "kDRrK9lrTgiK"
      },
      "execution_count": null,
      "outputs": []
    },
    {
      "cell_type": "markdown",
      "source": [
        "8. Create a line plot with multiple lines using Matplotlib"
      ],
      "metadata": {
        "id": "86noPeD6Uwx4"
      }
    },
    {
      "cell_type": "code",
      "source": [
        "import matplotlib.pyplot as plt\n",
        "x = [1, 2, 3, 4, 5]\n",
        "y1 = [2, 3, 4, 5, 6]\n",
        "y2 = [3, 4, 5, 6, 7]\n",
        "plt.plot(x, y1, label='Line 1')\n",
        "plt.plot(x, y2, label='Line 2')\n",
        "plt.legend()\n",
        "plt.show()\n"
      ],
      "metadata": {
        "id": "M1Ur4BpKT_5G"
      },
      "execution_count": null,
      "outputs": []
    },
    {
      "cell_type": "markdown",
      "source": [
        "9. Generate a Pandas DataFrame and filter rows where a column value is greater than a threshold"
      ],
      "metadata": {
        "id": "COMCLSt_UDtX"
      }
    },
    {
      "cell_type": "code",
      "source": [
        "import pandas as pd\n",
        "df = pd.DataFrame({'Name': ['A', 'B', 'C'], 'Score': [85, 90, 78]})\n",
        "filtered_df = df[df['Score'] > 80]\n",
        "print(filtered_df)\n"
      ],
      "metadata": {
        "id": "NOzcbomRUHTS"
      },
      "execution_count": null,
      "outputs": []
    },
    {
      "cell_type": "markdown",
      "source": [
        "10. Create a histogram using Seaborn to visualize a distribution"
      ],
      "metadata": {
        "id": "pO4BmqzzUJwF"
      }
    },
    {
      "cell_type": "code",
      "source": [
        "import seaborn as sns\n",
        "import matplotlib.pyplot as plt\n",
        "data = [1, 2, 2, 3, 3, 3, 4, 4, 4, 4]\n",
        "sns.histplot(data, kde=True)\n",
        "plt.show()\n"
      ],
      "metadata": {
        "id": "bsv5tNIAUN1W"
      },
      "execution_count": null,
      "outputs": []
    },
    {
      "cell_type": "markdown",
      "source": [
        "11. Perform matrix multiplication using NumPy"
      ],
      "metadata": {
        "id": "hJqTKwVYURG2"
      }
    },
    {
      "cell_type": "code",
      "source": [
        "import numpy as np\n",
        "a = np.array([[1, 2], [3, 4]])\n",
        "b = np.array([[5, 6], [7, 8]])\n",
        "result = np.dot(a, b)\n",
        "print(result)\n"
      ],
      "metadata": {
        "id": "PYLbfX5iUUAC"
      },
      "execution_count": null,
      "outputs": []
    },
    {
      "cell_type": "markdown",
      "source": [
        "12. Use Pandas to load a CSV file and display its first 5 rows"
      ],
      "metadata": {
        "id": "NQ3mAFCoUV-z"
      }
    },
    {
      "cell_type": "code",
      "source": [
        "import pandas as pd\n",
        "df = pd.read_csv('data.csv')\n",
        "print(df.head())\n"
      ],
      "metadata": {
        "id": "Yp2uVh8wUdrD"
      },
      "execution_count": null,
      "outputs": []
    },
    {
      "cell_type": "markdown",
      "source": [
        "13. Create a 3D scatter plot using Plotly\n"
      ],
      "metadata": {
        "id": "oqKT8nzZUh1o"
      }
    },
    {
      "cell_type": "code",
      "source": [
        "import plotly.express as px\n",
        "import pandas as pd\n",
        "df = pd.DataFrame({\n",
        "    'x': [1, 2, 3, 4],\n",
        "    'y': [10, 11, 12, 13],\n",
        "    'z': [5, 6, 7, 8]\n",
        "})\n",
        "fig = px.scatter_3d(df, x='x', y='y', z='z', title='3D Scatter Plot')\n",
        "fig.show()\n"
      ],
      "metadata": {
        "id": "BUQgh11jUpDb"
      },
      "execution_count": null,
      "outputs": []
    }
  ]
}